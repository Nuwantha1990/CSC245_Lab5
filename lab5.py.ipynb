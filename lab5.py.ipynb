{
 "cells": [
  {
   "cell_type": "code",
   "execution_count": 1,
   "id": "initial_id",
   "metadata": {
    "collapsed": true,
    "ExecuteTime": {
     "end_time": "2024-03-20T03:00:39.279913300Z",
     "start_time": "2024-03-20T03:00:39.235592700Z"
    }
   },
   "outputs": [
    {
     "name": "stdout",
     "output_type": "stream",
     "text": [
      "<class 'pandas.core.frame.DataFrame'>\n",
      "RangeIndex: 891 entries, 0 to 890\n",
      "Data columns (total 16 columns):\n",
      " #   Column       Non-Null Count  Dtype  \n",
      "---  ------       --------------  -----  \n",
      " 0   survived     891 non-null    int64  \n",
      " 1   pclass       891 non-null    int64  \n",
      " 2   sex          891 non-null    object \n",
      " 3   age          714 non-null    float64\n",
      " 4   sibsp        891 non-null    int64  \n",
      " 5   parch        891 non-null    int64  \n",
      " 6   fare         891 non-null    float64\n",
      " 7   embarked     889 non-null    object \n",
      " 8   class        891 non-null    object \n",
      " 9   who          891 non-null    object \n",
      " 10  adult_male   891 non-null    bool   \n",
      " 11  deck         203 non-null    object \n",
      " 12  embark_town  889 non-null    object \n",
      " 13  alive        891 non-null    object \n",
      " 14  alone        891 non-null    bool   \n",
      " 15  Unnamed: 15  0 non-null      float64\n",
      "dtypes: bool(2), float64(3), int64(4), object(7)\n",
      "memory usage: 99.3+ KB\n"
     ]
    }
   ],
   "source": [
    "import numpy as np\n",
    "import matplotlib.pyplot as plt\n",
    "import seaborn as sns\n",
    "import pandas as pd\n",
    "titanic = pd.read_csv('titanic.csv')\n",
    "titanic.info()\n",
    "\n",
    "\n"
   ]
  },
  {
   "cell_type": "code",
   "outputs": [
    {
     "name": "stdout",
     "output_type": "stream",
     "text": [
      "List of colums:\n",
      "Index(['survived', 'pclass', 'sex', 'age', 'sibsp', 'parch', 'fare',\n",
      "       'embarked', 'class', 'who', 'adult_male', 'deck', 'embark_town',\n",
      "       'alive', 'alone', 'Unnamed: 15'],\n",
      "      dtype='object')\n",
      "Data types of the Datasets:\n",
      "survived         int64\n",
      "pclass           int64\n",
      "sex             object\n",
      "age            float64\n",
      "sibsp            int64\n",
      "parch            int64\n",
      "fare           float64\n",
      "embarked        object\n",
      "class           object\n",
      "who             object\n",
      "adult_male        bool\n",
      "deck            object\n",
      "embark_town     object\n",
      "alive           object\n",
      "alone             bool\n",
      "Unnamed: 15    float64\n",
      "dtype: object\n",
      "Shapes of the Datasets:\n",
      "(891, 16)\n"
     ]
    }
   ],
   "source": [
    "import pandas as pd\n",
    "import numpy as np\n",
    "df = pd.read_csv('titanic.csv')\n",
    "print('List of colums:')\n",
    "print(df.columns)\n",
    "print(\"Data types of the Datasets:\")\n",
    "print(df.dtypes)\n",
    "print(\"Shapes of the Datasets:\")\n",
    "print(df.shape)\n"
   ],
   "metadata": {
    "collapsed": false,
    "ExecuteTime": {
     "end_time": "2024-03-20T03:07:48.661520700Z",
     "start_time": "2024-03-20T03:07:48.631941600Z"
    }
   },
   "id": "7d6ba4213dbd5a0b",
   "execution_count": 2
  },
  {
   "cell_type": "code",
   "outputs": [
    {
     "name": "stdout",
     "output_type": "stream",
     "text": [
      "              Unnamed: 15  adult_male  alone      fare  parch  pclass  sibsp  \\\n",
      "sex    age                                                                     \n",
      "female 0.75           0.0           0      0   38.5166      2       6      4   \n",
      "       1.00           0.0           0      0   26.8750      3       6      1   \n",
      "       2.00           0.0           0      0  259.4750      9      15      9   \n",
      "       3.00           0.0           0      0   62.6542      3       5      4   \n",
      "       4.00           0.0           0      0  114.1417      6      13      4   \n",
      "...                   ...         ...    ...       ...    ...     ...    ...   \n",
      "male   70.00          0.0           2      1   81.5000      1       3      1   \n",
      "       70.50          0.0           1      1    7.7500      0       3      0   \n",
      "       71.00          0.0           2      2   84.1584      0       2      0   \n",
      "       74.00          0.0           1      1    7.7750      0       3      0   \n",
      "       80.00          0.0           1      1   30.0000      0       1      0   \n",
      "\n",
      "              survived  \n",
      "sex    age              \n",
      "female 0.75          2  \n",
      "       1.00          2  \n",
      "       2.00          2  \n",
      "       3.00          1  \n",
      "       4.00          5  \n",
      "...                ...  \n",
      "male   70.00         0  \n",
      "       70.50         0  \n",
      "       71.00         0  \n",
      "       74.00         0  \n",
      "       80.00         1  \n",
      "\n",
      "[145 rows x 8 columns]\n"
     ]
    }
   ],
   "source": [
    "import pandas as pd\n",
    "import numpy as np\n",
    "df = pd.read_csv('titanic.csv')\n",
    "result = pd.pivot_table(df,index=['sex','age'], aggfunc=np.sum)\n",
    "print(result)"
   ],
   "metadata": {
    "collapsed": false,
    "ExecuteTime": {
     "end_time": "2024-03-20T03:36:03.890782300Z",
     "start_time": "2024-03-20T03:36:03.863402900Z"
    }
   },
   "id": "b9defef26f1cb6cd",
   "execution_count": 6
  },
  {
   "cell_type": "code",
   "outputs": [
    {
     "name": "stdout",
     "output_type": "stream",
     "text": [
      "class               First    Second     Third\n",
      "sex    age                                   \n",
      "female (0, 20]   0.928571  1.000000  0.510638\n",
      "       (20, 55]  0.968750  0.912281  0.407407\n",
      "male   (0, 20]   0.571429  0.526316  0.197368\n",
      "       (20, 55]  0.440000  0.054054  0.134503\n"
     ]
    }
   ],
   "source": [
    "import pandas as pd\n",
    "import numpy as np\n",
    "df = pd.read_csv('titanic.csv')\n",
    "age = pd.cut(df['age'], [0, 20, 55])\n",
    "result = df.pivot_table('survived', index=['sex', age], columns='class')\n",
    "print(result)"
   ],
   "metadata": {
    "collapsed": false,
    "ExecuteTime": {
     "end_time": "2024-03-20T04:13:21.345563400Z",
     "start_time": "2024-03-20T04:13:21.291520400Z"
    }
   },
   "id": "ec33ce9ee699b705",
   "execution_count": 7
  },
  {
   "cell_type": "code",
   "outputs": [
    {
     "name": "stdout",
     "output_type": "stream",
     "text": [
      "        survived\n",
      "sex             \n",
      "female  0.742038\n",
      "male    0.188908\n"
     ]
    }
   ],
   "source": [
    "import pandas as pd\n",
    "import numpy as np\n",
    "df = pd.read_csv('titanic.csv')\n",
    "result=df.groupby('sex')[['survived']].mean()\n",
    "print(result)"
   ],
   "metadata": {
    "collapsed": false,
    "ExecuteTime": {
     "end_time": "2024-03-20T04:16:59.351898800Z",
     "start_time": "2024-03-20T04:16:59.337008Z"
    }
   },
   "id": "9b384f86adb277d",
   "execution_count": 8
  },
  {
   "cell_type": "code",
   "outputs": [
    {
     "name": "stdout",
     "output_type": "stream",
     "text": [
      "pclass                   1         2         3\n",
      "sex    Age Group                              \n",
      "female Child      0.928571  1.000000  0.510638\n",
      "       Adult      0.968750  0.912281  0.407407\n",
      "       Senior     1.000000  0.000000  1.000000\n",
      "male   Child      0.571429  0.526316  0.197368\n",
      "       Adult      0.440000  0.054054  0.134503\n",
      "       Senior     0.157895  0.166667  0.000000\n"
     ]
    }
   ],
   "source": [
    "import pandas as pd\n",
    "import numpy as np\n",
    "\n",
    "# Load the Titanic dataset\n",
    "df = pd.read_csv('titanic.csv')\n",
    "\n",
    "# Correctly creating age groups\n",
    "df['Age Group'] = pd.cut(df['age'], bins=[0, 20, 55, np.inf], labels=['Child', 'Adult', 'Senior'])\n",
    "\n",
    "# Create the Pivot Table, ensuring column names match the dataset's structure\n",
    "\n",
    "result = pd.pivot_table(df, values='survived', index=['sex', 'Age Group'], columns='pclass', aggfunc=np.mean)\n",
    "\n",
    "print(result)"
   ],
   "metadata": {
    "collapsed": false,
    "ExecuteTime": {
     "end_time": "2024-03-20T15:17:47.758859400Z",
     "start_time": "2024-03-20T15:17:47.726397600Z"
    }
   },
   "id": "af1213d37993aa1a",
   "execution_count": 18
  },
  {
   "cell_type": "code",
   "outputs": [
    {
     "name": "stdout",
     "output_type": "stream",
     "text": [
      "                   age\n",
      "Age Group             \n",
      "age_class_1   4.268281\n",
      "age_class_2  22.721739\n",
      "age_class_3  41.132509\n",
      "age_class_4  66.022727\n"
     ]
    }
   ],
   "source": [
    "import pandas as pd\n",
    "import numpy as np\n",
    "df = pd.read_csv('titanic.csv')\n",
    "df['Age Group'] = pd.cut(df['age'], bins=[0, 10, 30,60,80, np.inf], labels=['age_class_1', 'age_class_2', 'age_class_3', 'age_class_4', 'age_class_5'])\n",
    "result = pd.pivot_table(df, values='age',  index='Age Group')\n",
    "print(result)"
   ],
   "metadata": {
    "collapsed": false,
    "ExecuteTime": {
     "end_time": "2024-03-20T15:33:03.899087200Z",
     "start_time": "2024-03-20T15:33:03.880771200Z"
    }
   },
   "id": "b70392637b48d7c0",
   "execution_count": 24
  },
  {
   "cell_type": "code",
   "outputs": [
    {
     "name": "stdout",
     "output_type": "stream",
     "text": [
      "pclass                     1     2      3\n",
      "sex    Survival Gender                   \n",
      "female group_1           1.0   8.0   22.0\n",
      "       group_2          34.0  36.0   57.0\n",
      "       group_3          48.0  30.0   22.0\n",
      "       group_4           2.0   NaN    1.0\n",
      "male   group_1           2.0   9.0   22.0\n",
      "       group_2          24.0  43.0  151.0\n",
      "       group_3          63.0  44.0   76.0\n",
      "       group_4          12.0   3.0    4.0\n"
     ]
    }
   ],
   "source": [
    "import pandas as pd\n",
    "import numpy as np\n",
    "df = pd.read_csv('titanic.csv')\n",
    "df['Survival Gender']=pd.cut(df['age'], bins=[0,10,30,60,80, np.inf], labels=['group_1', 'group_2', 'group_3', 'group_4', 'group_5'])\n",
    "result = pd.pivot_table(df, values='survived', index=['sex','Survival Gender'], columns='pclass', aggfunc='count')\n",
    "print(result)"
   ],
   "metadata": {
    "collapsed": false,
    "ExecuteTime": {
     "end_time": "2024-03-20T15:41:02.636404800Z",
     "start_time": "2024-03-20T15:41:02.610001700Z"
    }
   },
   "id": "c589ddc0e58e6281",
   "execution_count": 28
  },
  {
   "cell_type": "code",
   "outputs": [
    {
     "name": "stdout",
     "output_type": "stream",
     "text": [
      "pclass          1    2     3\n",
      "sex    age                  \n",
      "female 0.75   NaN  NaN  1.00\n",
      "       1.00   NaN  NaN  1.00\n",
      "       2.00   0.0  1.0  0.25\n",
      "       3.00   NaN  1.0  0.00\n",
      "       4.00   NaN  1.0  1.00\n",
      "...           ...  ...   ...\n",
      "male   70.00  0.0  0.0   NaN\n",
      "       70.50  NaN  NaN  0.00\n",
      "       71.00  0.0  NaN   NaN\n",
      "       74.00  NaN  NaN  0.00\n",
      "       80.00  1.0  NaN   NaN\n",
      "\n",
      "[145 rows x 3 columns]\n"
     ]
    }
   ],
   "source": [
    "import pandas as pd\n",
    "import numpy as np\n",
    "df = pd.read_csv('titanic.csv')\n",
    "df['Survival Rate'] = pd.cut(df['age'], bins=[0,20,50,60,80, np.inf])\n",
    "result = pd.pivot_table(df, values='survived', index=['sex','age'], columns='pclass',aggfunc=np.mean)\n",
    "print(result)"
   ],
   "metadata": {
    "collapsed": false,
    "ExecuteTime": {
     "end_time": "2024-03-20T16:12:34.164160500Z",
     "start_time": "2024-03-20T16:12:34.129198100Z"
    }
   },
   "id": "9676d179fa73b0d",
   "execution_count": 29
  },
  {
   "cell_type": "code",
   "outputs": [
    {
     "name": "stdout",
     "output_type": "stream",
     "text": [
      "pclass          1         2         3     \n",
      "Fare Category Low High  Low High  Low High\n",
      "sex    age                                \n",
      "female 0.75   NaN  NaN  NaN  NaN  NaN  1.0\n",
      "       1.00   NaN  NaN  NaN  NaN  1.0  1.0\n",
      "       2.00   NaN  0.0  NaN  1.0  0.5  0.0\n",
      "       3.00   NaN  NaN  NaN  1.0  NaN  0.0\n",
      "       4.00   NaN  NaN  NaN  1.0  1.0  1.0\n",
      "...            ..  ...  ...  ...  ...  ...\n",
      "male   70.00  NaN  0.0  0.0  NaN  NaN  NaN\n",
      "       70.50  NaN  NaN  NaN  NaN  0.0  NaN\n",
      "       71.00  NaN  0.0  NaN  NaN  NaN  NaN\n",
      "       74.00  NaN  NaN  NaN  NaN  0.0  NaN\n",
      "       80.00  NaN  1.0  NaN  NaN  NaN  NaN\n",
      "\n",
      "[145 rows x 6 columns]\n"
     ]
    }
   ],
   "source": [
    "import pandas as pd\n",
    "import numpy as np\n",
    "df = pd.read_csv('titanic.csv')\n",
    "df['Survival Rate'] = pd.cut(df['age'], bins=[0,20,50,60,80, np.inf])\n",
    "#result = pd.pivot_table(df, values='survived', index=['sex','age'], columns='pclass',aggfunc=np.mean)\n",
    "#create fare categary\n",
    "median_fare = df['fare'].median()\n",
    "df['Fare Category'] = pd.cut(df['fare'], bins=[0, median_fare, df['fare'].max()], include_lowest=True, labels=['Low', 'High'])\n",
    "pivot_table = pd.pivot_table(df, \n",
    "                             values='survived', \n",
    "                             index=['sex', 'age'], \n",
    "                             columns=['pclass', 'Fare Category'], \n",
    "                             aggfunc='mean')\n",
    "print(pivot_table)"
   ],
   "metadata": {
    "collapsed": false,
    "ExecuteTime": {
     "end_time": "2024-03-20T16:20:36.027842900Z",
     "start_time": "2024-03-20T16:20:35.990416500Z"
    }
   },
   "id": "bc926ed6dbd3ab03",
   "execution_count": 32
  },
  {
   "cell_type": "code",
   "outputs": [],
   "source": [],
   "metadata": {
    "collapsed": false
   },
   "id": "52ca254da4a64ac7"
  }
 ],
 "metadata": {
  "kernelspec": {
   "display_name": "Python 3",
   "language": "python",
   "name": "python3"
  },
  "language_info": {
   "codemirror_mode": {
    "name": "ipython",
    "version": 2
   },
   "file_extension": ".py",
   "mimetype": "text/x-python",
   "name": "python",
   "nbconvert_exporter": "python",
   "pygments_lexer": "ipython2",
   "version": "2.7.6"
  }
 },
 "nbformat": 4,
 "nbformat_minor": 5
}
